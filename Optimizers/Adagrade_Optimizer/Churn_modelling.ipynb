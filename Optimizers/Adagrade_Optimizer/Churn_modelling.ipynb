{
 "cells": [
  {
   "cell_type": "code",
   "execution_count": 1,
   "id": "e057f0cc-61cb-4780-aa87-33202f6c086a",
   "metadata": {},
   "outputs": [],
   "source": [
    "import numpy as np\n",
    "import pandas as pd\n"
   ]
  },
  {
   "cell_type": "code",
   "execution_count": 2,
   "id": "de0e5614-f265-4f9f-a415-3c7a3d35d751",
   "metadata": {},
   "outputs": [],
   "source": [
    "df = pd.read_csv(\"D:\\\\Feature_csv_Files\\\\Churn_Modelling.csv\")"
   ]
  },
  {
   "cell_type": "code",
   "execution_count": 3,
   "id": "8569fb87-b601-4c39-aebf-ca6c1a4dc9d7",
   "metadata": {},
   "outputs": [
    {
     "data": {
      "text/html": [
       "<div>\n",
       "<style scoped>\n",
       "    .dataframe tbody tr th:only-of-type {\n",
       "        vertical-align: middle;\n",
       "    }\n",
       "\n",
       "    .dataframe tbody tr th {\n",
       "        vertical-align: top;\n",
       "    }\n",
       "\n",
       "    .dataframe thead th {\n",
       "        text-align: right;\n",
       "    }\n",
       "</style>\n",
       "<table border=\"1\" class=\"dataframe\">\n",
       "  <thead>\n",
       "    <tr style=\"text-align: right;\">\n",
       "      <th></th>\n",
       "      <th>RowNumber</th>\n",
       "      <th>CustomerId</th>\n",
       "      <th>Surname</th>\n",
       "      <th>CreditScore</th>\n",
       "      <th>Geography</th>\n",
       "      <th>Gender</th>\n",
       "      <th>Age</th>\n",
       "      <th>Tenure</th>\n",
       "      <th>Balance</th>\n",
       "      <th>NumOfProducts</th>\n",
       "      <th>HasCrCard</th>\n",
       "      <th>IsActiveMember</th>\n",
       "      <th>EstimatedSalary</th>\n",
       "      <th>Exited</th>\n",
       "    </tr>\n",
       "  </thead>\n",
       "  <tbody>\n",
       "    <tr>\n",
       "      <th>0</th>\n",
       "      <td>1</td>\n",
       "      <td>15634602</td>\n",
       "      <td>Hargrave</td>\n",
       "      <td>619</td>\n",
       "      <td>France</td>\n",
       "      <td>Female</td>\n",
       "      <td>42</td>\n",
       "      <td>2</td>\n",
       "      <td>0.00</td>\n",
       "      <td>1</td>\n",
       "      <td>1</td>\n",
       "      <td>1</td>\n",
       "      <td>101348.88</td>\n",
       "      <td>1</td>\n",
       "    </tr>\n",
       "    <tr>\n",
       "      <th>1</th>\n",
       "      <td>2</td>\n",
       "      <td>15647311</td>\n",
       "      <td>Hill</td>\n",
       "      <td>608</td>\n",
       "      <td>Spain</td>\n",
       "      <td>Female</td>\n",
       "      <td>41</td>\n",
       "      <td>1</td>\n",
       "      <td>83807.86</td>\n",
       "      <td>1</td>\n",
       "      <td>0</td>\n",
       "      <td>1</td>\n",
       "      <td>112542.58</td>\n",
       "      <td>0</td>\n",
       "    </tr>\n",
       "    <tr>\n",
       "      <th>2</th>\n",
       "      <td>3</td>\n",
       "      <td>15619304</td>\n",
       "      <td>Onio</td>\n",
       "      <td>502</td>\n",
       "      <td>France</td>\n",
       "      <td>Female</td>\n",
       "      <td>42</td>\n",
       "      <td>8</td>\n",
       "      <td>159660.80</td>\n",
       "      <td>3</td>\n",
       "      <td>1</td>\n",
       "      <td>0</td>\n",
       "      <td>113931.57</td>\n",
       "      <td>1</td>\n",
       "    </tr>\n",
       "    <tr>\n",
       "      <th>3</th>\n",
       "      <td>4</td>\n",
       "      <td>15701354</td>\n",
       "      <td>Boni</td>\n",
       "      <td>699</td>\n",
       "      <td>France</td>\n",
       "      <td>Female</td>\n",
       "      <td>39</td>\n",
       "      <td>1</td>\n",
       "      <td>0.00</td>\n",
       "      <td>2</td>\n",
       "      <td>0</td>\n",
       "      <td>0</td>\n",
       "      <td>93826.63</td>\n",
       "      <td>0</td>\n",
       "    </tr>\n",
       "    <tr>\n",
       "      <th>4</th>\n",
       "      <td>5</td>\n",
       "      <td>15737888</td>\n",
       "      <td>Mitchell</td>\n",
       "      <td>850</td>\n",
       "      <td>Spain</td>\n",
       "      <td>Female</td>\n",
       "      <td>43</td>\n",
       "      <td>2</td>\n",
       "      <td>125510.82</td>\n",
       "      <td>1</td>\n",
       "      <td>1</td>\n",
       "      <td>1</td>\n",
       "      <td>79084.10</td>\n",
       "      <td>0</td>\n",
       "    </tr>\n",
       "  </tbody>\n",
       "</table>\n",
       "</div>"
      ],
      "text/plain": [
       "   RowNumber  CustomerId   Surname  CreditScore Geography  Gender  Age  \\\n",
       "0          1    15634602  Hargrave          619    France  Female   42   \n",
       "1          2    15647311      Hill          608     Spain  Female   41   \n",
       "2          3    15619304      Onio          502    France  Female   42   \n",
       "3          4    15701354      Boni          699    France  Female   39   \n",
       "4          5    15737888  Mitchell          850     Spain  Female   43   \n",
       "\n",
       "   Tenure    Balance  NumOfProducts  HasCrCard  IsActiveMember  \\\n",
       "0       2       0.00              1          1               1   \n",
       "1       1   83807.86              1          0               1   \n",
       "2       8  159660.80              3          1               0   \n",
       "3       1       0.00              2          0               0   \n",
       "4       2  125510.82              1          1               1   \n",
       "\n",
       "   EstimatedSalary  Exited  \n",
       "0        101348.88       1  \n",
       "1        112542.58       0  \n",
       "2        113931.57       1  \n",
       "3         93826.63       0  \n",
       "4         79084.10       0  "
      ]
     },
     "execution_count": 3,
     "metadata": {},
     "output_type": "execute_result"
    }
   ],
   "source": [
    "df.head()"
   ]
  },
  {
   "cell_type": "code",
   "execution_count": 4,
   "id": "0b2dba98-1b20-4d5d-93dd-0555e415a183",
   "metadata": {},
   "outputs": [],
   "source": [
    "import tensorflow as tf\n",
    "from sklearn.model_selection import train_test_split\n",
    "from sklearn.preprocessing import LabelEncoder , StandardScaler"
   ]
  },
  {
   "cell_type": "code",
   "execution_count": 5,
   "id": "4f193c29-e939-4d7b-a2cb-72b09823d43d",
   "metadata": {},
   "outputs": [],
   "source": [
    "X = df.drop(columns = \"Exited\")\n",
    "y = df['Exited']"
   ]
  },
  {
   "cell_type": "code",
   "execution_count": 6,
   "id": "a2284a5e-ae96-48ae-ab89-39c5068aace7",
   "metadata": {},
   "outputs": [
    {
     "data": {
      "text/plain": [
       "RowNumber            int64\n",
       "CustomerId           int64\n",
       "Surname             object\n",
       "CreditScore          int64\n",
       "Geography           object\n",
       "Gender              object\n",
       "Age                  int64\n",
       "Tenure               int64\n",
       "Balance            float64\n",
       "NumOfProducts        int64\n",
       "HasCrCard            int64\n",
       "IsActiveMember       int64\n",
       "EstimatedSalary    float64\n",
       "Exited               int64\n",
       "dtype: object"
      ]
     },
     "execution_count": 6,
     "metadata": {},
     "output_type": "execute_result"
    }
   ],
   "source": [
    "df.dtypes"
   ]
  },
  {
   "cell_type": "code",
   "execution_count": 7,
   "id": "b4f72bef-d4b2-4968-874b-0ee9cd4fa268",
   "metadata": {},
   "outputs": [],
   "source": [
    "cat_col = ['Surname' , 'Geography' , 'Gender'  ]"
   ]
  },
  {
   "cell_type": "code",
   "execution_count": 8,
   "id": "1336a4da-66a6-442c-991b-85561c6fac1d",
   "metadata": {},
   "outputs": [],
   "source": [
    "X_encoded = pd.get_dummies(X , columns= cat_col , drop_first= True)"
   ]
  },
  {
   "cell_type": "code",
   "execution_count": null,
   "id": "41d021cf-42d2-4943-85b5-73f3fe403791",
   "metadata": {},
   "outputs": [],
   "source": []
  },
  {
   "cell_type": "markdown",
   "id": "6cd84d3e-7e53-4a3b-b03a-ef638816ae33",
   "metadata": {},
   "source": [
    "# Encoding categorical features"
   ]
  },
  {
   "cell_type": "code",
   "execution_count": 9,
   "id": "660ac059-68cf-46bb-afcb-88525bb7ce4e",
   "metadata": {},
   "outputs": [],
   "source": [
    "# Split the dataset \n",
    "\n",
    "X_train , X_test , y_train , y_test = train_test_split(X_encoded , y, test_size= 0.2 , random_state= 33)\n"
   ]
  },
  {
   "cell_type": "code",
   "execution_count": 10,
   "id": "78a9f688-3284-487a-9c6c-684f6f32dc1a",
   "metadata": {},
   "outputs": [],
   "source": [
    "# Standardize the features\n",
    "\n",
    "sc = StandardScaler()\n",
    "\n",
    "X_train = sc.fit_transform(X_train)\n",
    "X_test = sc.fit_transform(X_test)\n",
    "\n",
    "# Define the neural networks\n",
    "\n",
    "model = tf.keras.Sequential([\n",
    "    tf.keras.layers.Dense(64 , activation= 'relu' , input_dim = X_train.shape[1]) ,\n",
    "    tf.keras.layers.Dense(64 , activation = 'relu' ) ,\n",
    "    tf.keras.layers.Dense(1 , activation = 'sigmoid')\n",
    "])"
   ]
  },
  {
   "cell_type": "code",
   "execution_count": 11,
   "id": "77312ed8-9319-45d0-93d2-b8f92dab00dd",
   "metadata": {},
   "outputs": [],
   "source": [
    "# Define the loss \n",
    "loss_fn = tf.keras.losses.BinaryCrossentropy()\n",
    "\n",
    "metrices = ['accuracy']\n"
   ]
  },
  {
   "cell_type": "code",
   "execution_count": 12,
   "id": "edc81e29-6837-4106-9fbe-dddfd1931bc4",
   "metadata": {},
   "outputs": [],
   "source": [
    "# Define the optimizers with adagrade \n",
    "\n",
    "learning_rate = 0.001\n",
    "optimizer = tf.keras.optimizers.Adagrad(learning_rate )"
   ]
  },
  {
   "cell_type": "code",
   "execution_count": 13,
   "id": "ef852fd1-0ff9-4596-986a-31815fa9247c",
   "metadata": {},
   "outputs": [],
   "source": [
    "# Compile the model\n",
    "model.compile(optimizer= optimizer , loss= loss_fn , metrics= metrices)"
   ]
  },
  {
   "cell_type": "code",
   "execution_count": 18,
   "id": "59c0fae5-2ad6-4389-b174-bc3a78da36da",
   "metadata": {},
   "outputs": [
    {
     "name": "stdout",
     "output_type": "stream",
     "text": [
      "Epoch 1/10\n",
      "320/320 [==============================] - 2s 6ms/step - loss: 0.2768 - accuracy: 0.8784 - val_loss: 0.6217 - val_accuracy: 0.7550\n",
      "Epoch 2/10\n",
      "320/320 [==============================] - 2s 5ms/step - loss: 0.2746 - accuracy: 0.8788 - val_loss: 0.6250 - val_accuracy: 0.7538\n",
      "Epoch 3/10\n",
      "320/320 [==============================] - 2s 5ms/step - loss: 0.2727 - accuracy: 0.8797 - val_loss: 0.6281 - val_accuracy: 0.7525\n",
      "Epoch 4/10\n",
      "320/320 [==============================] - 2s 5ms/step - loss: 0.2708 - accuracy: 0.8805 - val_loss: 0.6311 - val_accuracy: 0.7500\n",
      "Epoch 5/10\n",
      "320/320 [==============================] - 2s 5ms/step - loss: 0.2691 - accuracy: 0.8822 - val_loss: 0.6342 - val_accuracy: 0.7506\n",
      "Epoch 6/10\n",
      "320/320 [==============================] - 2s 5ms/step - loss: 0.2674 - accuracy: 0.8831 - val_loss: 0.6372 - val_accuracy: 0.7494\n",
      "Epoch 7/10\n",
      "320/320 [==============================] - 1s 4ms/step - loss: 0.2659 - accuracy: 0.8836 - val_loss: 0.6401 - val_accuracy: 0.7487\n",
      "Epoch 8/10\n",
      "320/320 [==============================] - 1s 4ms/step - loss: 0.2644 - accuracy: 0.8838 - val_loss: 0.6430 - val_accuracy: 0.7487\n",
      "Epoch 9/10\n",
      "320/320 [==============================] - 1s 4ms/step - loss: 0.2631 - accuracy: 0.8841 - val_loss: 0.6459 - val_accuracy: 0.7475\n",
      "Epoch 10/10\n",
      "320/320 [==============================] - 1s 4ms/step - loss: 0.2617 - accuracy: 0.8848 - val_loss: 0.6489 - val_accuracy: 0.7487\n"
     ]
    },
    {
     "data": {
      "text/plain": [
       "<keras.src.callbacks.History at 0x223836316f0>"
      ]
     },
     "execution_count": 18,
     "metadata": {},
     "output_type": "execute_result"
    }
   ],
   "source": [
    "# Train the model \n",
    "\n",
    "epochs = 10\n",
    "batch_size = 20\n",
    "model.fit(X_train , y_train , epochs= epochs , batch_size = batch_size , validation_split= 0.2)"
   ]
  },
  {
   "cell_type": "code",
   "execution_count": 17,
   "id": "4daac4c8-8971-4634-978c-f8be43efa28b",
   "metadata": {},
   "outputs": [
    {
     "name": "stdout",
     "output_type": "stream",
     "text": [
      "63/63 [==============================] - 0s 2ms/step - loss: 0.5335 - accuracy: 0.7790\n",
      "Test Loss : 0.5335020422935486\n",
      "Test Accuracy : 0.7789999842643738\n"
     ]
    }
   ],
   "source": [
    "# Evaluate the model \n",
    "\n",
    "test_loss , test_accuracy = model.evaluate(X_test , y_test)\n",
    "print(\"Test Loss :\" , test_loss)\n",
    "print('Test Accuracy :' , test_accuracy )"
   ]
  },
  {
   "cell_type": "code",
   "execution_count": null,
   "id": "aa3ff1b2-43f9-4bb3-ac08-5b6971e87191",
   "metadata": {},
   "outputs": [],
   "source": []
  },
  {
   "cell_type": "code",
   "execution_count": null,
   "id": "7ea40907-9a17-4a3e-8aee-8f2dd1eb3ffe",
   "metadata": {},
   "outputs": [],
   "source": []
  }
 ],
 "metadata": {
  "kernelspec": {
   "display_name": "Python 3 (ipykernel)",
   "language": "python",
   "name": "python3"
  },
  "language_info": {
   "codemirror_mode": {
    "name": "ipython",
    "version": 3
   },
   "file_extension": ".py",
   "mimetype": "text/x-python",
   "name": "python",
   "nbconvert_exporter": "python",
   "pygments_lexer": "ipython3",
   "version": "3.10.9"
  }
 },
 "nbformat": 4,
 "nbformat_minor": 5
}

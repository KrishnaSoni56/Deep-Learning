{
 "cells": [
  {
   "cell_type": "code",
   "execution_count": 1,
   "id": "68e6e0d8-f5e1-4472-89c9-d9968b9fe55d",
   "metadata": {},
   "outputs": [],
   "source": [
    "import numpy as np\n",
    "import pandas as pd\n"
   ]
  },
  {
   "cell_type": "code",
   "execution_count": 2,
   "id": "925fccfa-e860-477b-a470-d7c468002e5b",
   "metadata": {},
   "outputs": [
    {
     "data": {
      "text/html": [
       "<div>\n",
       "<style scoped>\n",
       "    .dataframe tbody tr th:only-of-type {\n",
       "        vertical-align: middle;\n",
       "    }\n",
       "\n",
       "    .dataframe tbody tr th {\n",
       "        vertical-align: top;\n",
       "    }\n",
       "\n",
       "    .dataframe thead th {\n",
       "        text-align: right;\n",
       "    }\n",
       "</style>\n",
       "<table border=\"1\" class=\"dataframe\">\n",
       "  <thead>\n",
       "    <tr style=\"text-align: right;\">\n",
       "      <th></th>\n",
       "      <th>Product type</th>\n",
       "      <th>SKU</th>\n",
       "      <th>Price</th>\n",
       "      <th>Availability</th>\n",
       "      <th>Number of products sold</th>\n",
       "      <th>Revenue generated</th>\n",
       "      <th>Customer demographics</th>\n",
       "      <th>Stock levels</th>\n",
       "      <th>Lead times</th>\n",
       "      <th>Order quantities</th>\n",
       "      <th>...</th>\n",
       "      <th>Location</th>\n",
       "      <th>Lead time</th>\n",
       "      <th>Production volumes</th>\n",
       "      <th>Manufacturing lead time</th>\n",
       "      <th>Manufacturing costs</th>\n",
       "      <th>Inspection results</th>\n",
       "      <th>Defect rates</th>\n",
       "      <th>Transportation modes</th>\n",
       "      <th>Routes</th>\n",
       "      <th>Costs</th>\n",
       "    </tr>\n",
       "  </thead>\n",
       "  <tbody>\n",
       "    <tr>\n",
       "      <th>0</th>\n",
       "      <td>haircare</td>\n",
       "      <td>SKU0</td>\n",
       "      <td>69.808006</td>\n",
       "      <td>55</td>\n",
       "      <td>802</td>\n",
       "      <td>8661.996792</td>\n",
       "      <td>Non-binary</td>\n",
       "      <td>58</td>\n",
       "      <td>7</td>\n",
       "      <td>96</td>\n",
       "      <td>...</td>\n",
       "      <td>Mumbai</td>\n",
       "      <td>29</td>\n",
       "      <td>215</td>\n",
       "      <td>29</td>\n",
       "      <td>46.279879</td>\n",
       "      <td>Pending</td>\n",
       "      <td>0.226410</td>\n",
       "      <td>Road</td>\n",
       "      <td>Route B</td>\n",
       "      <td>187.752075</td>\n",
       "    </tr>\n",
       "    <tr>\n",
       "      <th>1</th>\n",
       "      <td>skincare</td>\n",
       "      <td>SKU1</td>\n",
       "      <td>14.843523</td>\n",
       "      <td>95</td>\n",
       "      <td>736</td>\n",
       "      <td>7460.900065</td>\n",
       "      <td>Female</td>\n",
       "      <td>53</td>\n",
       "      <td>30</td>\n",
       "      <td>37</td>\n",
       "      <td>...</td>\n",
       "      <td>Mumbai</td>\n",
       "      <td>23</td>\n",
       "      <td>517</td>\n",
       "      <td>30</td>\n",
       "      <td>33.616769</td>\n",
       "      <td>Pending</td>\n",
       "      <td>4.854068</td>\n",
       "      <td>Road</td>\n",
       "      <td>Route B</td>\n",
       "      <td>503.065579</td>\n",
       "    </tr>\n",
       "    <tr>\n",
       "      <th>2</th>\n",
       "      <td>haircare</td>\n",
       "      <td>SKU2</td>\n",
       "      <td>11.319683</td>\n",
       "      <td>34</td>\n",
       "      <td>8</td>\n",
       "      <td>9577.749626</td>\n",
       "      <td>Unknown</td>\n",
       "      <td>1</td>\n",
       "      <td>10</td>\n",
       "      <td>88</td>\n",
       "      <td>...</td>\n",
       "      <td>Mumbai</td>\n",
       "      <td>12</td>\n",
       "      <td>971</td>\n",
       "      <td>27</td>\n",
       "      <td>30.688019</td>\n",
       "      <td>Pending</td>\n",
       "      <td>4.580593</td>\n",
       "      <td>Air</td>\n",
       "      <td>Route C</td>\n",
       "      <td>141.920282</td>\n",
       "    </tr>\n",
       "    <tr>\n",
       "      <th>3</th>\n",
       "      <td>skincare</td>\n",
       "      <td>SKU3</td>\n",
       "      <td>61.163343</td>\n",
       "      <td>68</td>\n",
       "      <td>83</td>\n",
       "      <td>7766.836426</td>\n",
       "      <td>Non-binary</td>\n",
       "      <td>23</td>\n",
       "      <td>13</td>\n",
       "      <td>59</td>\n",
       "      <td>...</td>\n",
       "      <td>Kolkata</td>\n",
       "      <td>24</td>\n",
       "      <td>937</td>\n",
       "      <td>18</td>\n",
       "      <td>35.624741</td>\n",
       "      <td>Fail</td>\n",
       "      <td>4.746649</td>\n",
       "      <td>Rail</td>\n",
       "      <td>Route A</td>\n",
       "      <td>254.776159</td>\n",
       "    </tr>\n",
       "    <tr>\n",
       "      <th>4</th>\n",
       "      <td>skincare</td>\n",
       "      <td>SKU4</td>\n",
       "      <td>4.805496</td>\n",
       "      <td>26</td>\n",
       "      <td>871</td>\n",
       "      <td>2686.505152</td>\n",
       "      <td>Non-binary</td>\n",
       "      <td>5</td>\n",
       "      <td>3</td>\n",
       "      <td>56</td>\n",
       "      <td>...</td>\n",
       "      <td>Delhi</td>\n",
       "      <td>5</td>\n",
       "      <td>414</td>\n",
       "      <td>3</td>\n",
       "      <td>92.065161</td>\n",
       "      <td>Fail</td>\n",
       "      <td>3.145580</td>\n",
       "      <td>Air</td>\n",
       "      <td>Route A</td>\n",
       "      <td>923.440632</td>\n",
       "    </tr>\n",
       "  </tbody>\n",
       "</table>\n",
       "<p>5 rows × 24 columns</p>\n",
       "</div>"
      ],
      "text/plain": [
       "  Product type   SKU      Price  Availability  Number of products sold  \\\n",
       "0     haircare  SKU0  69.808006            55                      802   \n",
       "1     skincare  SKU1  14.843523            95                      736   \n",
       "2     haircare  SKU2  11.319683            34                        8   \n",
       "3     skincare  SKU3  61.163343            68                       83   \n",
       "4     skincare  SKU4   4.805496            26                      871   \n",
       "\n",
       "   Revenue generated Customer demographics  Stock levels  Lead times  \\\n",
       "0        8661.996792            Non-binary            58           7   \n",
       "1        7460.900065                Female            53          30   \n",
       "2        9577.749626               Unknown             1          10   \n",
       "3        7766.836426            Non-binary            23          13   \n",
       "4        2686.505152            Non-binary             5           3   \n",
       "\n",
       "   Order quantities  ...  Location Lead time  Production volumes  \\\n",
       "0                96  ...    Mumbai        29                 215   \n",
       "1                37  ...    Mumbai        23                 517   \n",
       "2                88  ...    Mumbai        12                 971   \n",
       "3                59  ...   Kolkata        24                 937   \n",
       "4                56  ...     Delhi         5                 414   \n",
       "\n",
       "  Manufacturing lead time Manufacturing costs  Inspection results  \\\n",
       "0                      29           46.279879             Pending   \n",
       "1                      30           33.616769             Pending   \n",
       "2                      27           30.688019             Pending   \n",
       "3                      18           35.624741                Fail   \n",
       "4                       3           92.065161                Fail   \n",
       "\n",
       "   Defect rates  Transportation modes   Routes       Costs  \n",
       "0      0.226410                  Road  Route B  187.752075  \n",
       "1      4.854068                  Road  Route B  503.065579  \n",
       "2      4.580593                   Air  Route C  141.920282  \n",
       "3      4.746649                  Rail  Route A  254.776159  \n",
       "4      3.145580                   Air  Route A  923.440632  \n",
       "\n",
       "[5 rows x 24 columns]"
      ]
     },
     "execution_count": 2,
     "metadata": {},
     "output_type": "execute_result"
    }
   ],
   "source": [
    "df = pd.read_csv(\"D:\\\\Feature_csv_Files\\\\supply_chain.csv\" )\n",
    "df.head()"
   ]
  },
  {
   "cell_type": "code",
   "execution_count": 3,
   "id": "bc13c0ac-c3a2-4d27-93ae-7cd9b33688ba",
   "metadata": {},
   "outputs": [],
   "source": [
    "df = df.drop(columns = ['SKU'])"
   ]
  },
  {
   "cell_type": "code",
   "execution_count": 4,
   "id": "64b1faa5-d3a8-48d1-9b6a-023a1845febf",
   "metadata": {},
   "outputs": [],
   "source": [
    "import tensorflow as tf\n",
    "from sklearn.model_selection import train_test_split\n",
    "from sklearn.preprocessing import LabelEncoder , StandardScaler"
   ]
  },
  {
   "cell_type": "code",
   "execution_count": 5,
   "id": "a1fdccb5-280f-4282-84f6-47720cc5cda4",
   "metadata": {},
   "outputs": [],
   "source": [
    "x = df.drop(columns= ['Inspection results'] , axis = 1)\n",
    "y = df['Inspection results']\n"
   ]
  },
  {
   "cell_type": "code",
   "execution_count": 6,
   "id": "3c1a29b0-c50d-4f12-b4e5-b24c83cc1cd7",
   "metadata": {},
   "outputs": [],
   "source": [
    "categorical_features = ['Product type' ,'Shipping carriers' , 'Customer demographics' , 'Customer demographics' , 'Transportation modes'  , 'Location' , 'Supplier name' , 'Routes']\n",
    "\n"
   ]
  },
  {
   "cell_type": "code",
   "execution_count": 7,
   "id": "a5185644-c1ac-4789-80f9-ebb0f7fd483b",
   "metadata": {},
   "outputs": [],
   "source": [
    "x_encoded = pd.get_dummies(x, columns = categorical_features , drop_first = True )\n",
    "lb = LabelEncoder()\n",
    "y_encoded = lb.fit_transform(df[\"Inspection results\"])"
   ]
  },
  {
   "cell_type": "code",
   "execution_count": 8,
   "id": "70dc2bc6-08f4-402e-b2cc-70e71ba8e7b9",
   "metadata": {},
   "outputs": [],
   "source": [
    "x_train , x_test , y_train , y_test = train_test_split(x_encoded,y_encoded , test_size= 0.2 , random_state= 33)\n",
    "\n"
   ]
  },
  {
   "cell_type": "code",
   "execution_count": 9,
   "id": "ebc7c722-99c0-4c84-b1b8-cdb9bbd69d79",
   "metadata": {},
   "outputs": [],
   "source": [
    "sc =StandardScaler()\n",
    "\n",
    "x_train_scaled = sc.fit_transform(x_train)\n",
    "x_test_scaled  = sc.fit_transform(x_test)"
   ]
  },
  {
   "cell_type": "code",
   "execution_count": 10,
   "id": "ba8ed436-0d2b-478a-ad37-3debf30e6287",
   "metadata": {},
   "outputs": [],
   "source": [
    "# Define the neural network architecture\n",
    "model = tf.keras.Sequential([\n",
    "    tf.keras.layers.Dense(128 , activation= 'relu' , input_dim = x_train.shape[1]) ,\n",
    "    tf.keras.layers.Dense(64 , activation = 'relu') ,\n",
    "    tf.keras.layers.Dense(1, activation = 'sigmoid')\n",
    "])"
   ]
  },
  {
   "cell_type": "code",
   "execution_count": 11,
   "id": "453867be-58ed-473c-a6c5-698c2d9a80a0",
   "metadata": {},
   "outputs": [],
   "source": [
    "loss_fn = tf.keras.losses.CategoricalCrossentropy()\n",
    "metrices = ['accuracy']"
   ]
  },
  {
   "cell_type": "code",
   "execution_count": 12,
   "id": "8f975dcb-a150-48b1-8210-9ba957234ecb",
   "metadata": {},
   "outputs": [],
   "source": [
    "# Define the optimizer with Nesterov Accelerated gradinet(NaG)\n",
    "learning_rate = 0.01\n",
    "momentum = 0.9\n",
    "optimizer = tf.keras.optimizers.SGD(learning_rate = learning_rate , momentum= momentum , nesterov= True)"
   ]
  },
  {
   "cell_type": "code",
   "execution_count": 13,
   "id": "fb6ae24f-ea9a-4b2a-a5ff-639aaf69bf4b",
   "metadata": {},
   "outputs": [],
   "source": [
    "# Compile the model\n",
    "\n",
    "model.compile(optimizer = optimizer , loss = loss_fn , metrics = metrices)"
   ]
  },
  {
   "cell_type": "code",
   "execution_count": 14,
   "id": "2ffb75b9-8815-4457-b6f4-e69c488f539c",
   "metadata": {},
   "outputs": [
    {
     "name": "stdout",
     "output_type": "stream",
     "text": [
      "Epoch 1/30\n"
     ]
    },
    {
     "name": "stderr",
     "output_type": "stream",
     "text": [
      "C:\\Users\\soni2\\anaconda3\\lib\\site-packages\\tensorflow\\python\\util\\dispatch.py:1260: SyntaxWarning: In loss categorical_crossentropy, expected y_pred.shape to be (batch_size, num_classes) with num_classes > 1. Received: y_pred.shape=(None, 1). Consider using 'binary_crossentropy' if you only have 2 classes.\n",
      "  return dispatch_target(*args, **kwargs)\n"
     ]
    },
    {
     "name": "stdout",
     "output_type": "stream",
     "text": [
      "4/4 [==============================] - 1s 104ms/step - loss: 0.0000e+00 - accuracy: 0.1719 - val_loss: 0.0000e+00 - val_accuracy: 0.4375\n",
      "Epoch 2/30\n",
      "4/4 [==============================] - 0s 16ms/step - loss: 0.0000e+00 - accuracy: 0.2500 - val_loss: 0.0000e+00 - val_accuracy: 0.3125\n",
      "Epoch 3/30\n"
     ]
    },
    {
     "name": "stderr",
     "output_type": "stream",
     "text": [
      "C:\\Users\\soni2\\anaconda3\\lib\\site-packages\\tensorflow\\python\\util\\dispatch.py:1260: SyntaxWarning: In loss categorical_crossentropy, expected y_pred.shape to be (batch_size, num_classes) with num_classes > 1. Received: y_pred.shape=(None, 1). Consider using 'binary_crossentropy' if you only have 2 classes.\n",
      "  return dispatch_target(*args, **kwargs)\n"
     ]
    },
    {
     "name": "stdout",
     "output_type": "stream",
     "text": [
      "4/4 [==============================] - 0s 16ms/step - loss: 0.0000e+00 - accuracy: 0.1875 - val_loss: 0.0000e+00 - val_accuracy: 0.3125\n",
      "Epoch 4/30\n",
      "4/4 [==============================] - 0s 16ms/step - loss: 0.0000e+00 - accuracy: 0.1875 - val_loss: 0.0000e+00 - val_accuracy: 0.3125\n",
      "Epoch 5/30\n",
      "4/4 [==============================] - 0s 14ms/step - loss: 0.0000e+00 - accuracy: 0.1875 - val_loss: 0.0000e+00 - val_accuracy: 0.3125\n",
      "Epoch 6/30\n",
      "4/4 [==============================] - 0s 16ms/step - loss: 0.0000e+00 - accuracy: 0.1875 - val_loss: 0.0000e+00 - val_accuracy: 0.3125\n",
      "Epoch 7/30\n",
      "4/4 [==============================] - 0s 17ms/step - loss: 0.0000e+00 - accuracy: 0.1875 - val_loss: 0.0000e+00 - val_accuracy: 0.3125\n",
      "Epoch 8/30\n",
      "4/4 [==============================] - 0s 15ms/step - loss: 0.0000e+00 - accuracy: 0.1875 - val_loss: 0.0000e+00 - val_accuracy: 0.3125\n",
      "Epoch 9/30\n",
      "4/4 [==============================] - 0s 16ms/step - loss: 0.0000e+00 - accuracy: 0.1875 - val_loss: 0.0000e+00 - val_accuracy: 0.3125\n",
      "Epoch 10/30\n",
      "4/4 [==============================] - 0s 16ms/step - loss: 0.0000e+00 - accuracy: 0.1875 - val_loss: 0.0000e+00 - val_accuracy: 0.3125\n",
      "Epoch 11/30\n",
      "4/4 [==============================] - 0s 15ms/step - loss: 0.0000e+00 - accuracy: 0.1875 - val_loss: 0.0000e+00 - val_accuracy: 0.3125\n",
      "Epoch 12/30\n",
      "4/4 [==============================] - 0s 16ms/step - loss: 0.0000e+00 - accuracy: 0.1875 - val_loss: 0.0000e+00 - val_accuracy: 0.3125\n",
      "Epoch 13/30\n",
      "4/4 [==============================] - 0s 15ms/step - loss: 0.0000e+00 - accuracy: 0.1875 - val_loss: 0.0000e+00 - val_accuracy: 0.3125\n",
      "Epoch 14/30\n",
      "4/4 [==============================] - 0s 14ms/step - loss: 0.0000e+00 - accuracy: 0.1875 - val_loss: 0.0000e+00 - val_accuracy: 0.3125\n",
      "Epoch 15/30\n",
      "4/4 [==============================] - 0s 15ms/step - loss: 0.0000e+00 - accuracy: 0.1875 - val_loss: 0.0000e+00 - val_accuracy: 0.3125\n",
      "Epoch 16/30\n",
      "4/4 [==============================] - 0s 14ms/step - loss: 0.0000e+00 - accuracy: 0.1875 - val_loss: 0.0000e+00 - val_accuracy: 0.3125\n",
      "Epoch 17/30\n",
      "4/4 [==============================] - 0s 15ms/step - loss: 0.0000e+00 - accuracy: 0.1875 - val_loss: 0.0000e+00 - val_accuracy: 0.3125\n",
      "Epoch 18/30\n",
      "4/4 [==============================] - 0s 15ms/step - loss: 0.0000e+00 - accuracy: 0.1875 - val_loss: 0.0000e+00 - val_accuracy: 0.3125\n",
      "Epoch 19/30\n",
      "4/4 [==============================] - 0s 15ms/step - loss: 0.0000e+00 - accuracy: 0.1875 - val_loss: 0.0000e+00 - val_accuracy: 0.3125\n",
      "Epoch 20/30\n",
      "4/4 [==============================] - 0s 16ms/step - loss: 0.0000e+00 - accuracy: 0.1875 - val_loss: 0.0000e+00 - val_accuracy: 0.3125\n",
      "Epoch 21/30\n",
      "4/4 [==============================] - 0s 15ms/step - loss: 0.0000e+00 - accuracy: 0.1875 - val_loss: 0.0000e+00 - val_accuracy: 0.3125\n",
      "Epoch 22/30\n",
      "4/4 [==============================] - 0s 15ms/step - loss: 0.0000e+00 - accuracy: 0.1875 - val_loss: 0.0000e+00 - val_accuracy: 0.3125\n",
      "Epoch 23/30\n",
      "4/4 [==============================] - 0s 16ms/step - loss: 0.0000e+00 - accuracy: 0.1875 - val_loss: 0.0000e+00 - val_accuracy: 0.3125\n",
      "Epoch 24/30\n",
      "4/4 [==============================] - 0s 13ms/step - loss: 0.0000e+00 - accuracy: 0.1875 - val_loss: 0.0000e+00 - val_accuracy: 0.3125\n",
      "Epoch 25/30\n",
      "4/4 [==============================] - 0s 20ms/step - loss: 0.0000e+00 - accuracy: 0.1875 - val_loss: 0.0000e+00 - val_accuracy: 0.3125\n",
      "Epoch 26/30\n",
      "4/4 [==============================] - 0s 15ms/step - loss: 0.0000e+00 - accuracy: 0.1875 - val_loss: 0.0000e+00 - val_accuracy: 0.3125\n",
      "Epoch 27/30\n",
      "4/4 [==============================] - 0s 15ms/step - loss: 0.0000e+00 - accuracy: 0.1875 - val_loss: 0.0000e+00 - val_accuracy: 0.3125\n",
      "Epoch 28/30\n",
      "4/4 [==============================] - 0s 16ms/step - loss: 0.0000e+00 - accuracy: 0.1875 - val_loss: 0.0000e+00 - val_accuracy: 0.3125\n",
      "Epoch 29/30\n",
      "4/4 [==============================] - 0s 17ms/step - loss: 0.0000e+00 - accuracy: 0.1875 - val_loss: 0.0000e+00 - val_accuracy: 0.3125\n",
      "Epoch 30/30\n",
      "4/4 [==============================] - 0s 15ms/step - loss: 0.0000e+00 - accuracy: 0.1875 - val_loss: 0.0000e+00 - val_accuracy: 0.3125\n"
     ]
    },
    {
     "data": {
      "text/plain": [
       "<keras.src.callbacks.History at 0x1c7efb96080>"
      ]
     },
     "execution_count": 14,
     "metadata": {},
     "output_type": "execute_result"
    }
   ],
   "source": [
    "# train the model\n",
    "\n",
    "epochs = 30\n",
    "batch_size = 18\n",
    "model.fit(x_train , y_train ,\n",
    "          batch_size = batch_size , epochs= epochs , \n",
    "          validation_split= 0.2 )"
   ]
  },
  {
   "cell_type": "code",
   "execution_count": 15,
   "id": "229b9d7a-f1c1-41a5-8d9d-219b768fb4d7",
   "metadata": {},
   "outputs": [
    {
     "name": "stdout",
     "output_type": "stream",
     "text": [
      "1/1 [==============================] - 0s 48ms/step - loss: 0.0000e+00 - accuracy: 0.3000\n",
      "Test Loss 0.0\n",
      "Test Accuracy 0.30000001192092896\n"
     ]
    }
   ],
   "source": [
    "# Evaluate the model\n",
    "test_loss , test_acc = model.evaluate(x_test , y_test)\n",
    "print(\"Test Loss\" , test_loss) \n",
    "print(\"Test Accuracy\" , test_acc)"
   ]
  },
  {
   "cell_type": "code",
   "execution_count": null,
   "id": "33ddf855-cdfe-4fd8-b4fe-b329526f7bbc",
   "metadata": {},
   "outputs": [],
   "source": []
  },
  {
   "cell_type": "code",
   "execution_count": null,
   "id": "9f613f1d-4a79-4648-ac41-06197fb42a0a",
   "metadata": {},
   "outputs": [],
   "source": []
  },
  {
   "cell_type": "code",
   "execution_count": null,
   "id": "49c5d8c1-12ba-40e0-af9c-a7e4e9de15fb",
   "metadata": {},
   "outputs": [],
   "source": []
  },
  {
   "cell_type": "code",
   "execution_count": null,
   "id": "b6386e44-c3f0-465b-86bf-bff64680a6eb",
   "metadata": {},
   "outputs": [],
   "source": []
  },
  {
   "cell_type": "code",
   "execution_count": null,
   "id": "41ff7b97-8136-4577-84d4-8f348f6cc140",
   "metadata": {},
   "outputs": [],
   "source": []
  },
  {
   "cell_type": "code",
   "execution_count": null,
   "id": "6deca019-6ab5-4489-9b6a-735291d97d1f",
   "metadata": {},
   "outputs": [],
   "source": []
  },
  {
   "cell_type": "code",
   "execution_count": null,
   "id": "bdb650b6-6077-48a0-97d1-8c1848a0391f",
   "metadata": {},
   "outputs": [],
   "source": []
  },
  {
   "cell_type": "code",
   "execution_count": null,
   "id": "8285f577-47ae-41dc-8236-b6fd015e937b",
   "metadata": {},
   "outputs": [],
   "source": []
  }
 ],
 "metadata": {
  "kernelspec": {
   "display_name": "Python 3 (ipykernel)",
   "language": "python",
   "name": "python3"
  },
  "language_info": {
   "codemirror_mode": {
    "name": "ipython",
    "version": 3
   },
   "file_extension": ".py",
   "mimetype": "text/x-python",
   "name": "python",
   "nbconvert_exporter": "python",
   "pygments_lexer": "ipython3",
   "version": "3.10.9"
  }
 },
 "nbformat": 4,
 "nbformat_minor": 5
}

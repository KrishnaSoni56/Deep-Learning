{
 "cells": [
  {
   "cell_type": "code",
   "execution_count": 1,
   "id": "2d521085-3b04-4c91-ad9d-bb93d6791e6f",
   "metadata": {},
   "outputs": [],
   "source": [
    "import numpy as np\n",
    "import pandas as pd\n",
    "import tensorflow as tf\n",
    "from sklearn.model_selection import train_test_split\n",
    "from sklearn.preprocessing import LabelEncoder , StandardScaler"
   ]
  },
  {
   "cell_type": "code",
   "execution_count": 2,
   "id": "1f50e9e6-aac2-4ff7-a40b-bcef66f0477d",
   "metadata": {},
   "outputs": [],
   "source": [
    "df = pd.read_csv(\"D:\\\\Feature_csv_Files\\\\Churn_Modelling.csv\")"
   ]
  },
  {
   "cell_type": "code",
   "execution_count": 3,
   "id": "377653c4-883c-4791-bc7d-d8b15762e5ad",
   "metadata": {},
   "outputs": [],
   "source": [
    "X = df.drop(columns = \"Exited\")\n",
    "y = df['Exited']"
   ]
  },
  {
   "cell_type": "code",
   "execution_count": 4,
   "id": "bbf9f7ed-fecb-49af-b128-2d8ebc547596",
   "metadata": {},
   "outputs": [],
   "source": [
    "cat_col = ['Surname' , 'Geography' , 'Gender'  ]"
   ]
  },
  {
   "cell_type": "code",
   "execution_count": 5,
   "id": "100261bc-2e42-474d-9e4d-ff43bdf91e90",
   "metadata": {},
   "outputs": [],
   "source": [
    "X_encoded = pd.get_dummies(X , columns= cat_col , drop_first= True)"
   ]
  },
  {
   "cell_type": "code",
   "execution_count": 6,
   "id": "238290cc-b12a-4e13-9014-b63a8df5141f",
   "metadata": {},
   "outputs": [],
   "source": [
    "# Split the dataset \n",
    "\n",
    "X_train , X_test , y_train , y_test = train_test_split(X_encoded , y, test_size= 0.2 , random_state= 33)\n"
   ]
  },
  {
   "cell_type": "code",
   "execution_count": 8,
   "id": "352bcbb6-0fe3-409d-919d-c9e46dbe01d2",
   "metadata": {},
   "outputs": [],
   "source": [
    "# Standardize the features\n",
    "\n",
    "sc = StandardScaler()\n",
    "\n",
    "X_train = sc.fit_transform(X_train)\n",
    "X_test = sc.fit_transform(X_test)\n",
    "\n",
    "# Define the neural networks\n",
    "\n",
    "model = tf.keras.Sequential([\n",
    "    tf.keras.layers.Dense(64 , activation= 'relu' , input_dim = X_train.shape[1]) ,\n",
    "    tf.keras.layers.Dense(64 , activation = 'relu' ) ,\n",
    "    tf.keras.layers.Dense(1 , activation = 'sigmoid')\n",
    "])"
   ]
  },
  {
   "cell_type": "code",
   "execution_count": 9,
   "id": "bd65ab70-8c84-4fe9-9a96-0fc2cd11ef73",
   "metadata": {},
   "outputs": [],
   "source": [
    "# Define the loss \n",
    "loss_fn = tf.keras.losses.BinaryCrossentropy()\n",
    "\n",
    "metrices = ['accuracy']\n"
   ]
  },
  {
   "cell_type": "code",
   "execution_count": 11,
   "id": "bfd8c14e-2ecb-4128-89e7-33f05680523e",
   "metadata": {},
   "outputs": [],
   "source": [
    "# Define the optimizers with adagrade \n",
    "\n",
    "learning_rate = 0.001\n",
    "optimizer = tf.keras.optimizers.RMSprop(learning_rate )"
   ]
  },
  {
   "cell_type": "code",
   "execution_count": 12,
   "id": "5c804bb0-8522-460e-8f2b-7d3c5547d568",
   "metadata": {},
   "outputs": [],
   "source": [
    "# Compile the model\n",
    "\n",
    "model.compile(optimizer= optimizer , loss= loss_fn , metrics= metrices)"
   ]
  },
  {
   "cell_type": "code",
   "execution_count": 13,
   "id": "21897273-8a8d-42f8-9ede-bef6453ed30d",
   "metadata": {},
   "outputs": [
    {
     "name": "stdout",
     "output_type": "stream",
     "text": [
      "Epoch 1/10\n",
      "200/200 [==============================] - 2s 6ms/step - loss: 0.5127 - accuracy: 0.7956 - val_loss: 0.5287 - val_accuracy: 0.7800\n",
      "Epoch 2/10\n",
      "200/200 [==============================] - 1s 6ms/step - loss: 0.3997 - accuracy: 0.8188 - val_loss: 0.5430 - val_accuracy: 0.7581\n",
      "Epoch 3/10\n",
      "200/200 [==============================] - 1s 7ms/step - loss: 0.3402 - accuracy: 0.8484 - val_loss: 0.5793 - val_accuracy: 0.7475\n",
      "Epoch 4/10\n",
      "200/200 [==============================] - 1s 5ms/step - loss: 0.3085 - accuracy: 0.8642 - val_loss: 0.6145 - val_accuracy: 0.7362\n",
      "Epoch 5/10\n",
      "200/200 [==============================] - 1s 4ms/step - loss: 0.2884 - accuracy: 0.8700 - val_loss: 0.6183 - val_accuracy: 0.7375\n",
      "Epoch 6/10\n",
      "200/200 [==============================] - 1s 4ms/step - loss: 0.2720 - accuracy: 0.8791 - val_loss: 0.6356 - val_accuracy: 0.7350\n",
      "Epoch 7/10\n",
      "200/200 [==============================] - 1s 4ms/step - loss: 0.2567 - accuracy: 0.8864 - val_loss: 0.6728 - val_accuracy: 0.7219\n",
      "Epoch 8/10\n",
      "200/200 [==============================] - 1s 4ms/step - loss: 0.2416 - accuracy: 0.8988 - val_loss: 0.6687 - val_accuracy: 0.7462\n",
      "Epoch 9/10\n",
      "200/200 [==============================] - 1s 5ms/step - loss: 0.2260 - accuracy: 0.9052 - val_loss: 0.6687 - val_accuracy: 0.7400\n",
      "Epoch 10/10\n",
      "200/200 [==============================] - 1s 5ms/step - loss: 0.2085 - accuracy: 0.9147 - val_loss: 0.7452 - val_accuracy: 0.7450\n"
     ]
    },
    {
     "data": {
      "text/plain": [
       "<keras.src.callbacks.History at 0x1864391da50>"
      ]
     },
     "execution_count": 13,
     "metadata": {},
     "output_type": "execute_result"
    }
   ],
   "source": [
    "epochs = 10\n",
    "batch_size = 32\n",
    "model.fit(X_train , y_train , epochs=epochs ,validation_split= 0.2 , batch_size = batch_size)"
   ]
  },
  {
   "cell_type": "code",
   "execution_count": 14,
   "id": "80ba1b8b-380c-49f5-8b65-b2379e7f2830",
   "metadata": {},
   "outputs": [
    {
     "name": "stdout",
     "output_type": "stream",
     "text": [
      "63/63 [==============================] - 0s 2ms/step - loss: 0.7817 - accuracy: 0.7320\n",
      "Test Loss : 0.781715989112854\n",
      "Test Accuracy : 0.7319999933242798\n"
     ]
    }
   ],
   "source": [
    "# Evaluate the model \n",
    "\n",
    "test_loss , test_accuracy = model.evaluate(X_test , y_test)\n",
    "print(\"Test Loss :\" , test_loss)\n",
    "print('Test Accuracy :' , test_accuracy )"
   ]
  },
  {
   "cell_type": "code",
   "execution_count": null,
   "id": "62ebf1ac-78e9-4eb6-baa7-240940b88c92",
   "metadata": {},
   "outputs": [],
   "source": []
  }
 ],
 "metadata": {
  "kernelspec": {
   "display_name": "Python 3 (ipykernel)",
   "language": "python",
   "name": "python3"
  },
  "language_info": {
   "codemirror_mode": {
    "name": "ipython",
    "version": 3
   },
   "file_extension": ".py",
   "mimetype": "text/x-python",
   "name": "python",
   "nbconvert_exporter": "python",
   "pygments_lexer": "ipython3",
   "version": "3.10.9"
  }
 },
 "nbformat": 4,
 "nbformat_minor": 5
}

{
 "cells": [
  {
   "cell_type": "markdown",
   "id": "fbf9ce0a-44b5-40d5-aaa3-e83547c16d76",
   "metadata": {},
   "source": [
    "## ANN_Implementation"
   ]
  },
  {
   "cell_type": "code",
   "execution_count": null,
   "id": "c0e5da7d-7bb8-4235-8f0e-0f33980b7130",
   "metadata": {},
   "outputs": [],
   "source": []
  }
 ],
 "metadata": {
  "kernelspec": {
   "display_name": "Python 3 (ipykernel)",
   "language": "python",
   "name": "python3"
  },
  "language_info": {
   "codemirror_mode": {
    "name": "ipython",
    "version": 3
   },
   "file_extension": ".py",
   "mimetype": "text/x-python",
   "name": "python",
   "nbconvert_exporter": "python",
   "pygments_lexer": "ipython3",
   "version": "3.11.5"
  },
  "widgets": {
   "application/vnd.jupyter.widget-state+json": {
    "state": {},
    "version_major": 2,
    "version_minor": 0
   }
  }
 },
 "nbformat": 4,
 "nbformat_minor": 5
}

{
 "cells": [
  {
   "cell_type": "code",
   "execution_count": 1,
   "id": "2140fca1-3113-4feb-92a3-22e95eda7318",
   "metadata": {},
   "outputs": [],
   "source": [
    "import tensorflow as tf\n",
    "from tensorflow import keras\n",
    "\n",
    "from keras.preprocessing.image import ImageDataGenerator\n",
    "from keras.preprocessing import image\n",
    "from tensorflow.keras.preprocessing.image import load_img , img_to_array"
   ]
  },
  {
   "cell_type": "code",
   "execution_count": 2,
   "id": "6ef00538-d780-4cdf-9176-6fd4e854d77e",
   "metadata": {},
   "outputs": [],
   "source": [
    "datagen = ImageDataGenerator(\n",
    "    rotation_range = 25 ,\n",
    "    width_shift_range = 0.1,\n",
    "    height_shift_range = 0.1 ,\n",
    "    shear_range = 0.4 ,\n",
    "    zoom_range = 0.1 ,\n",
    "    horizontal_flip = True ,\n",
    "    fill_mode = 'nearest'\n",
    ")"
   ]
  },
  {
   "cell_type": "code",
   "execution_count": 3,
   "id": "daa06345-b7d9-4c89-8ea9-3b8b54448998",
   "metadata": {},
   "outputs": [],
   "source": [
    "img = load_img('C:\\\\Users\\\\soni2\\\\OneDrive\\\\Pictures\\\\Screenshots\\\\Screenshot (168).png')"
   ]
  },
  {
   "cell_type": "code",
   "execution_count": 4,
   "id": "ffa54196-6379-4c08-bf4f-fd8cd4886c1e",
   "metadata": {},
   "outputs": [],
   "source": [
    "x = img_to_array(img)"
   ]
  },
  {
   "cell_type": "code",
   "execution_count": 5,
   "id": "e9bc1107-a0ec-4e7c-b869-842f5a8e2715",
   "metadata": {},
   "outputs": [],
   "source": [
    "x =x.reshape((1 , ) + x.shape)"
   ]
  },
  {
   "cell_type": "code",
   "execution_count": 6,
   "id": "b9cdb55f-5bc2-44d0-9647-f04dbd9cc3a6",
   "metadata": {},
   "outputs": [],
   "source": [
    "i = 0\n",
    "for batch in datagen.flow(x , batch_size = 1 ,\n",
    "                          save_to_dir = \"D:\\Result_Aug_img\",\n",
    "                          save_prefix = 'Aug_Img_1.png'\n",
    "                                 ):\n",
    "    i += 1\n",
    "    if i > 10 :\n",
    "        break\n",
    "\n",
    "\n"
   ]
  },
  {
   "cell_type": "code",
   "execution_count": null,
   "id": "016803e0-eddf-491c-ba12-1c6ea3f2cb31",
   "metadata": {},
   "outputs": [],
   "source": []
  }
 ],
 "metadata": {
  "kernelspec": {
   "display_name": "Python 3 (ipykernel)",
   "language": "python",
   "name": "python3"
  },
  "language_info": {
   "codemirror_mode": {
    "name": "ipython",
    "version": 3
   },
   "file_extension": ".py",
   "mimetype": "text/x-python",
   "name": "python",
   "nbconvert_exporter": "python",
   "pygments_lexer": "ipython3",
   "version": "3.10.9"
  }
 },
 "nbformat": 4,
 "nbformat_minor": 5
}
